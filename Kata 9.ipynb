{
 "cells": [
  {
   "cell_type": "markdown",
   "metadata": {},
   "source": [
    "# Ejercicio 1: Trabajar con argumentos en funciones"
   ]
  },
  {
   "cell_type": "code",
   "execution_count": 269,
   "metadata": {},
   "outputs": [],
   "source": [
    "# Función para leer 3 tanques de combustible y muestre el promedio\n",
    "def tanques_c(Tanque1, Tanque2, Tanque3):\n",
    "    prom=(Tanque1+Tanque2+Tanque3)/3\n",
    "    print('Reporte de combustible:')\n",
    "    print(f\"El combustible promedio es de: {prom} %\")\n",
    "    print(f\"El cobustible del Tanque 1 es: {Tanque1} %\")\n",
    "    print(f\"El cobustible del Tanque 2 es: {Tanque2} %\")\n",
    "    print(f\"El cobustible del Tanque 3 es: {Tanque3} %\")           "
   ]
  },
  {
   "cell_type": "code",
   "execution_count": 270,
   "metadata": {},
   "outputs": [
    {
     "name": "stdout",
     "output_type": "stream",
     "text": [
      "Reporte de combustible:\n",
      "El combustible promedio es de: 56.666666666666664 %\n",
      "El cobustible del Tanque 1 es: 100 %\n",
      "El cobustible del Tanque 2 es: 20 %\n",
      "El cobustible del Tanque 3 es: 50 %\n"
     ]
    }
   ],
   "source": [
    "# Llamamos a la función que genera el reporte print(funcion(tanque1, tanque2, tanque3))\n",
    "tanques_c(100, 20, 50)"
   ]
  },
  {
   "cell_type": "code",
   "execution_count": 271,
   "metadata": {},
   "outputs": [],
   "source": [
    "# Función promedio\n",
    "def tanque_prom(*combustible):\n",
    "    prom=sum(combustible)/3\n",
    "    print(f\"El combustible promedio es de: {prom} %\")\n"
   ]
  },
  {
   "cell_type": "code",
   "execution_count": 272,
   "metadata": {},
   "outputs": [],
   "source": [
    "# Actualiza la función\n",
    "def tanques_c(Tanque1, Tanque2, Tanque3):\n",
    "    print('Reporte de combustible:')\n",
    "    tanque_prom(Tanque1, Tanque2, Tanque3)\n",
    "    print(f\"El cobustible del Tanque 1 es: {Tanque1} %\")\n",
    "    print(f\"El cobustible del Tanque 2 es: {Tanque2} %\")\n",
    "    print(f\"El cobustible del Tanque 3 es: {Tanque3} %\")"
   ]
  },
  {
   "cell_type": "code",
   "execution_count": 273,
   "metadata": {},
   "outputs": [
    {
     "name": "stdout",
     "output_type": "stream",
     "text": [
      "Reporte de combustible:\n",
      "El combustible promedio es de: 53.333333333333336 %\n",
      "El cobustible del Tanque 1 es: 10 %\n",
      "El cobustible del Tanque 2 es: 90 %\n",
      "El cobustible del Tanque 3 es: 60 %\n"
     ]
    }
   ],
   "source": [
    "tanques_c(10, 90, 60)"
   ]
  },
  {
   "cell_type": "markdown",
   "metadata": {},
   "source": [
    "# Ejercicio 2: Trabajo con argumentos de palabra clave"
   ]
  },
  {
   "cell_type": "code",
   "execution_count": 274,
   "metadata": {},
   "outputs": [],
   "source": [
    "# Función con un informe preciso de la misión. Considera hora de prelanzamiento, tiempo de vuelo, destino, tanque externo y tanque interno\n",
    "def info_mision(hpre, timeof, destination, exttank, intank):\n",
    "    return f\"\"\"Informe de lanzamiento \n",
    "    Hora de prelanzamiento: {hpre} hrs\n",
    "    Tiempo de vuelo aproximado: {timeof} hrs\n",
    "    Tiempo total del viaje en horas {hpre+timeof} hrs\n",
    "    Destino {destination}\n",
    "    Combustible tanque externo: {exttank} en litros\n",
    "    Combustible tanque interno {intank} en litros\n",
    "    El combustible total de la nave es {exttank+intank} en litros\"\"\"\n"
   ]
  },
  {
   "cell_type": "code",
   "execution_count": 275,
   "metadata": {},
   "outputs": [
    {
     "data": {
      "text/plain": [
       "'Informe de lanzamiento \\n    Hora de prelanzamiento: 10 hrs\\n    Tiempo de vuelo aproximado: 10800 hrs\\n    Tiempo total del viaje en horas 10810 hrs\\n    Destino Marte\\n    Combustible tanque externo: 9000 en litros\\n    Combustible tanque interno 8000 en litros\\n    El combustible total de la nave es 17000 en litros'"
      ]
     },
     "execution_count": 275,
     "metadata": {},
     "output_type": "execute_result"
    }
   ],
   "source": [
    "info_mision(10,10800,'Marte',9000,8000)"
   ]
  },
  {
   "cell_type": "code",
   "execution_count": 276,
   "metadata": {},
   "outputs": [],
   "source": [
    "# Escribe tu nueva función de reporte considerando lo anterior\n",
    "def info_mision(destino,*tiempodem,**tanques):\n",
    "    print(\"Informe de lanzamiento\")\n",
    "    print(f\"El tiempo total del vuelo en todas sus fases es: {sum(tiempodem)} hrs\")\n",
    "    print(f\"Con destino a: {destino}\")\n",
    "    combtotal=sum(tanques.values())\n",
    "    print(f\"El total de litros en la nave es: {combtotal}\")\n",
    "    for tank, litros in tanques.items():       \n",
    "        print(f\"El tanque {tank} tiene {litros} litros\")"
   ]
  },
  {
   "cell_type": "code",
   "execution_count": 277,
   "metadata": {},
   "outputs": [
    {
     "name": "stdout",
     "output_type": "stream",
     "text": [
      "Informe de lanzamiento\n",
      "El tiempo total del vuelo en todas sus fases es: 1099 hrs\n",
      "Con destino a: Marte\n",
      "El total de litros en la nave es: 650000\n",
      "El tanque main tiene 300000 litros\n",
      "El tanque external tiene 200000 litros\n",
      "El tanque reserva tiene 150000 litros\n",
      "None\n"
     ]
    }
   ],
   "source": [
    "print(info_mision(\"Marte\", 8, 11, 1080, main=300000, external=200000, reserva=150000))"
   ]
  }
 ],
 "metadata": {
  "interpreter": {
   "hash": "ed86d81b7058542e4d2d70ca1ccec5ddb89ed6d7201698c4ba3db0453e9e285b"
  },
  "kernelspec": {
   "display_name": "Python 3.10.2 64-bit (windows store)",
   "language": "python",
   "name": "python3"
  },
  "language_info": {
   "codemirror_mode": {
    "name": "ipython",
    "version": 3
   },
   "file_extension": ".py",
   "mimetype": "text/x-python",
   "name": "python",
   "nbconvert_exporter": "python",
   "pygments_lexer": "ipython3",
   "version": "3.10.2"
  },
  "orig_nbformat": 4
 },
 "nbformat": 4,
 "nbformat_minor": 2
}
