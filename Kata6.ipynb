{
 "cells": [
  {
   "cell_type": "markdown",
   "metadata": {},
   "source": [
    "## Ejercicio 1"
   ]
  },
  {
   "cell_type": "code",
   "execution_count": 53,
   "metadata": {},
   "outputs": [
    {
     "name": "stdout",
     "output_type": "stream",
     "text": [
      "Los planetas del sistema solar son ['Mercurio', 'Venus', 'Tierra', 'Marte', 'Jupiter', 'Saturno', 'Urano', 'Neptuno'] y son en total  8\n"
     ]
    }
   ],
   "source": [
    "# Creamos la lista planets y la mostramos\n",
    "planetas=['Mercurio','Venus','Tierra','Marte','Jupiter','Saturno','Urano','Neptuno']\n",
    "\n",
    "print(f\"Los planetas del sistema solar son {planetas} y son en total \", len(planetas))"
   ]
  },
  {
   "cell_type": "code",
   "execution_count": 54,
   "metadata": {},
   "outputs": [
    {
     "name": "stdout",
     "output_type": "stream",
     "text": [
      "Sin embargo hace algunas decadas se consideraba que Pluton era un planeta\n"
     ]
    }
   ],
   "source": [
    "# Agregamos a plutón y mostramos el último elemento\n",
    "planetas.append('Pluton')\n",
    "print(f\"Sin embargo hace algunas decadas se consideraba que {planetas[-1]} era un planeta\")"
   ]
  },
  {
   "cell_type": "markdown",
   "metadata": {},
   "source": [
    "# Ejercicio 2: Trabajando con datos de una lista"
   ]
  },
  {
   "cell_type": "code",
   "execution_count": 55,
   "metadata": {},
   "outputs": [
    {
     "name": "stdout",
     "output_type": "stream",
     "text": [
      "El planeta que buscas esta en la posición:  3\n",
      "Y delante de el estan los planetas:  ['Mercurio', 'Venus']\n",
      "Y los planetas más alejados al son despues de Tierra son: ['Marte', 'Jupiter', 'Saturno', 'Urano', 'Neptuno']\n"
     ]
    }
   ],
   "source": [
    "planetas2=['Mercurio','Venus','Tierra','Marte','Jupiter','Saturno','Urano','Neptuno']\n",
    "# Solicitamos el nombre de un planeta\n",
    "inputplaneta=input(\"Para saber en que posición esta un planeta ingresa el nombre de este con su primer letra en mayusculas por favor: \")\n",
    "# Busca el planeta en la lista\n",
    "indexplaneta=planetas2.index(inputplaneta)\n",
    "print(\"El planeta que buscas esta en la posición: \", indexplaneta+1)\n",
    "# Muestra los planetas más cercanos al sol\n",
    "print(\"Y delante de el estan los planetas: \",planetas2[0:indexplaneta])\n",
    "# Muestra los planetas más lejanos al sol\n",
    "print(\"Y los planetas más alejados al son despues de\", planetas2[indexplaneta], \"son:\", planetas2[indexplaneta+1:])"
   ]
  }
 ],
 "metadata": {
  "interpreter": {
   "hash": "ed86d81b7058542e4d2d70ca1ccec5ddb89ed6d7201698c4ba3db0453e9e285b"
  },
  "kernelspec": {
   "display_name": "Python 3.10.2 64-bit (windows store)",
   "language": "python",
   "name": "python3"
  },
  "language_info": {
   "codemirror_mode": {
    "name": "ipython",
    "version": 3
   },
   "file_extension": ".py",
   "mimetype": "text/x-python",
   "name": "python",
   "nbconvert_exporter": "python",
   "pygments_lexer": "ipython3",
   "version": "3.10.2"
  },
  "orig_nbformat": 4
 },
 "nbformat": 4,
 "nbformat_minor": 2
}
