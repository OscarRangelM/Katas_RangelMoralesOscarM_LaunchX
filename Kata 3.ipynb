{
 "cells": [
  {
   "cell_type": "markdown",
   "metadata": {},
   "source": [
    "## Primer problema"
   ]
  },
  {
   "cell_type": "code",
   "execution_count": 24,
   "metadata": {},
   "outputs": [],
   "source": [
    "# Añadir el código necesario para crear una variable que guarde la velocidad del asteroide.\n",
    "# Escribe una expresión de prueba para calcular si necesita una advertencia.\n",
    "# Agregue las instrucciones que se ejecutarán si la expresión de prueba es true o false.\n",
    "v_aste=int(input(\"A que velocidad se dirige el asteroide? \"))\n",
    "if v_aste > 25:\n",
    "    print(\"Advertencia un asteroide se dirige a la tierra a una alarmante velociadad busque un refuguio adecuado...\")\n",
    "else:\n",
    "    print(\"No representa un riesgo grave para la tierra\")"
   ]
  },
  {
   "cell_type": "markdown",
   "metadata": {},
   "source": [
    "## Segundo problema"
   ]
  },
  {
   "cell_type": "code",
   "execution_count": 25,
   "metadata": {},
   "outputs": [
    {
     "name": "stdout",
     "output_type": "stream",
     "text": [
      "A esta velocidad si miras para arriba puede que veas un rayo de luz del asteroide...\n"
     ]
    }
   ],
   "source": [
    "#Agrega el código para crear una variable para un asteroide que viaja a 19 km/s\n",
    "#Escribe varias expresiones de prueba para determinar si puedes ver el rayo de luz desde la tierra\n",
    "#Agrega las instrucciones que se ejecutarán si las expresiones de prueba son True o False\n",
    "v_aste=int(input(\"A que velocidad se dirige el asteroide? \"))\n",
    "if v_aste > 20:\n",
    "    print(\"A esta velocidad si miras para arriba puede que veas un rayo de luz del asteroide...\")\n",
    "elif v_aste==20:\n",
    "    print(\"A esta velocidad si miras para arriba puede que veas un rayo de luz del asteroide...\")\n",
    "else:\n",
    "    print(\"El asteroide no se puede ver...\")"
   ]
  },
  {
   "cell_type": "markdown",
   "metadata": {},
   "source": [
    "## Tercer problema"
   ]
  },
  {
   "cell_type": "code",
   "execution_count": 30,
   "metadata": {},
   "outputs": [
    {
     "name": "stdout",
     "output_type": "stream",
     "text": [
      "El asteroide no se puede ver a simple vista y no representa un riesgo grave para la tierra...\n"
     ]
    }
   ],
   "source": [
    "#Agrega el código para crear nuevas variables para la velocidad y el tamaño del asteroide\n",
    "#Para probar el código, prueba con varias velocidades y tamaños\n",
    "#Escribe varias expresiones de prueba o combinaciones de expresiones de prueba para determinar qué mensaje se debe enviar a Tierra.\n",
    "v_aste=int(input(\"A que velocidad se dirige el asteroide? \"))\n",
    "t_aste=int(input(\"Que tamaño tiene? \"))\n",
    "if v_aste >= 25 or t_aste>=25:\n",
    "    if v_aste >= 25 and t_aste>=25:\n",
    "        print(\"Se acerca un asteroide que puede hacer mucho daño a la tierra, si mira para arriba puede ver un rayo de luz de este\")\n",
    "    elif v_aste >= 25:\n",
    "        print(\"Se acerca un asteroide a gran velocidad a la tierra, puede causar mucho daño\")\n",
    "    elif t_aste >=25:\n",
    "        print(\"Se acerca un asteroride de gran tamaño a la tierra, si mira para arriba puede ver un rayo de luz de este\")\n",
    "elif v_aste>20:\n",
    "    print(\"A esta velocidad si miras para arriba puede que veas un rayo de luz del asteroide y no representa un riesgo grave para la tierra...\")\n",
    "else:\n",
    "    print(\"El asteroide no se puede ver a simple vista y no representa un riesgo grave para la tierra...\")"
   ]
  }
 ],
 "metadata": {
  "interpreter": {
   "hash": "ed86d81b7058542e4d2d70ca1ccec5ddb89ed6d7201698c4ba3db0453e9e285b"
  },
  "kernelspec": {
   "display_name": "Python 3.10.2 64-bit (windows store)",
   "language": "python",
   "name": "python3"
  },
  "language_info": {
   "codemirror_mode": {
    "name": "ipython",
    "version": 3
   },
   "file_extension": ".py",
   "mimetype": "text/x-python",
   "name": "python",
   "nbconvert_exporter": "python",
   "pygments_lexer": "ipython3",
   "version": "3.10.2"
  },
  "orig_nbformat": 4
 },
 "nbformat": 4,
 "nbformat_minor": 2
}
